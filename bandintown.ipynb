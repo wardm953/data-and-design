{
 "cells": [
  {
   "cell_type": "code",
   "execution_count": 2,
   "metadata": {},
   "outputs": [],
   "source": [
    "from bs4 import BeautifulSoup\n",
    "import requests"
   ]
  },
  {
   "cell_type": "code",
   "execution_count": 3,
   "metadata": {},
   "outputs": [],
   "source": [
    "url = 'https://www.bandsintown.com/?came_from=257&genre_filter=Hip+Hop'"
   ]
  },
  {
   "cell_type": "code",
   "execution_count": 4,
   "metadata": {},
   "outputs": [],
   "source": [
    "response = requests.get(url)\n",
    "soup = BeautifulSoup(response.text, 'html.parser')"
   ]
  },
  {
   "cell_type": "code",
   "execution_count": 5,
   "metadata": {},
   "outputs": [
    {
     "data": {
      "text/plain": [
       "'\\n\\n\\n\\n\\n     '"
      ]
     },
     "execution_count": 5,
     "metadata": {},
     "output_type": "execute_result"
    }
   ],
   "source": [
    "soup.text[:10]"
   ]
  },
  {
   "cell_type": "code",
   "execution_count": 6,
   "metadata": {},
   "outputs": [],
   "source": [
    "events = soup.find('div', {'class': 'upcomingEvents-bee28721'})"
   ]
  },
  {
   "cell_type": "code",
   "execution_count": 7,
   "metadata": {},
   "outputs": [
    {
     "data": {
      "text/plain": [
       "<div class=\"eventList-2bb17d5b\"><div class=\"eventList-a3525924\"><div class=\"eventList-4de46aa6\"><img alt=\"\" class=\"eventList-416cfd6b\" src=\"https://assets.bandsintown.com/images/scrollSpinner.gif\"/></div></div></div>"
      ]
     },
     "execution_count": 7,
     "metadata": {},
     "output_type": "execute_result"
    }
   ],
   "source": [
    "events.find('div').div.div"
   ]
  },
  {
   "cell_type": "code",
   "execution_count": 14,
   "metadata": {},
   "outputs": [
    {
     "data": {
      "text/plain": [
       "<a class=\"event-52550c22\" href=\"https://www.bandsintown.com/e/1010873842-illspokinn-at-pianos?came_from=257&amp;utm_medium=web&amp;utm_source=home&amp;utm_campaign=event\"></a>"
      ]
     },
     "execution_count": 14,
     "metadata": {},
     "output_type": "execute_result"
    }
   ],
   "source": [
    "events.find('a')"
   ]
  },
  {
   "cell_type": "code",
   "execution_count": 11,
   "metadata": {},
   "outputs": [
    {
     "data": {
      "text/plain": [
       "{'class': ['event-52550c22'],\n",
       " 'href': 'https://www.bandsintown.com/e/1010873842-illspokinn-at-pianos?came_from=257&utm_medium=web&utm_source=home&utm_campaign=event'}"
      ]
     },
     "execution_count": 11,
     "metadata": {},
     "output_type": "execute_result"
    }
   ],
   "source": [
    "events.find('a').attrs\n",
    "#shows different thing inside tag, shows attributes"
   ]
  },
  {
   "cell_type": "code",
   "execution_count": 8,
   "metadata": {},
   "outputs": [
    {
     "data": {
      "text/plain": [
       "'https://www.bandsintown.com/e/1010873842-illspokinn-at-pianos?came_from=257&utm_medium=web&utm_source=home&utm_campaign=event'"
      ]
     },
     "execution_count": 8,
     "metadata": {},
     "output_type": "execute_result"
    }
   ],
   "source": [
    "events.find('a').attrs['href']"
   ]
  },
  {
   "cell_type": "code",
   "execution_count": 9,
   "metadata": {},
   "outputs": [],
   "source": [
    "links = events.find_all('a')"
   ]
  },
  {
   "cell_type": "code",
   "execution_count": 10,
   "metadata": {},
   "outputs": [
    {
     "data": {
      "text/plain": [
       "[<a class=\"event-52550c22\" href=\"https://www.bandsintown.com/e/1010873842-illspokinn-at-pianos?came_from=257&amp;utm_medium=web&amp;utm_source=home&amp;utm_campaign=event\"></a>,\n",
       " <a href=\"https://www.bandsintown.com/a/2015050-illspokinn?came_from=257&amp;utm_medium=web&amp;utm_source=home&amp;utm_campaign=event\">Illspokinn</a>,\n",
       " <a class=\"event-52550c22\" href=\"https://www.bandsintown.com/e/1009748989-just-blaze-at-the-map-room-at-the-bowery-electric?came_from=257&amp;utm_medium=web&amp;utm_source=home&amp;utm_campaign=event\"></a>,\n",
       " <a href=\"https://www.bandsintown.com/a/1054-just-blaze?came_from=257&amp;utm_medium=web&amp;utm_source=home&amp;utm_campaign=event\">Just Blaze</a>,\n",
       " <a class=\"event-52550c22\" href=\"https://www.bandsintown.com/e/1008124148-orelsan-at-irving-plaza?came_from=257&amp;utm_medium=web&amp;utm_source=home&amp;utm_campaign=event\"></a>,\n",
       " <a href=\"https://www.bandsintown.com/a/257069-orelsan?came_from=257&amp;utm_medium=web&amp;utm_source=home&amp;utm_campaign=event\">OrelSan</a>,\n",
       " <a class=\"event-52550c22\" href=\"https://www.bandsintown.com/e/1011206437-jelani-sei-at-mercury-lounge?came_from=257&amp;utm_medium=web&amp;utm_source=home&amp;utm_campaign=event\"></a>,\n",
       " <a href=\"https://www.bandsintown.com/a/11079106-jelani-sei?came_from=257&amp;utm_medium=web&amp;utm_source=home&amp;utm_campaign=event\">Jelani Sei</a>,\n",
       " <a class=\"event-52550c22\" href=\"https://www.bandsintown.com/e/1011205437-sammus-at-mercury-lounge?came_from=257&amp;utm_medium=web&amp;utm_source=home&amp;utm_campaign=event\"></a>,\n",
       " <a href=\"https://www.bandsintown.com/a/2347860-sammus?came_from=257&amp;utm_medium=web&amp;utm_source=home&amp;utm_campaign=event\">Sammus</a>]"
      ]
     },
     "execution_count": 10,
     "metadata": {},
     "output_type": "execute_result"
    }
   ],
   "source": [
    "links[:10]"
   ]
  },
  {
   "cell_type": "code",
   "execution_count": 15,
   "metadata": {},
   "outputs": [
    {
     "data": {
      "text/plain": [
       "'https://www.bandsintown.com/e/1010873842-illspokinn-at-pianos?came_from=257&utm_medium=web&utm_source=home&utm_campaign=event'"
      ]
     },
     "execution_count": 15,
     "metadata": {},
     "output_type": "execute_result"
    }
   ],
   "source": [
    "links[0].attrs['href']"
   ]
  },
  {
   "cell_type": "code",
   "execution_count": 16,
   "metadata": {},
   "outputs": [
    {
     "name": "stdout",
     "output_type": "stream",
     "text": [
      "https://www.bandsintown.com/e/1010873842-illspokinn-at-pianos?came_from=257&utm_medium=web&utm_source=home&utm_campaign=event\n",
      "https://www.bandsintown.com/a/2015050-illspokinn?came_from=257&utm_medium=web&utm_source=home&utm_campaign=event\n",
      "https://www.bandsintown.com/e/1009748989-just-blaze-at-the-map-room-at-the-bowery-electric?came_from=257&utm_medium=web&utm_source=home&utm_campaign=event\n",
      "https://www.bandsintown.com/a/1054-just-blaze?came_from=257&utm_medium=web&utm_source=home&utm_campaign=event\n",
      "https://www.bandsintown.com/e/1008124148-orelsan-at-irving-plaza?came_from=257&utm_medium=web&utm_source=home&utm_campaign=event\n",
      "https://www.bandsintown.com/a/257069-orelsan?came_from=257&utm_medium=web&utm_source=home&utm_campaign=event\n",
      "https://www.bandsintown.com/e/1011206437-jelani-sei-at-mercury-lounge?came_from=257&utm_medium=web&utm_source=home&utm_campaign=event\n",
      "https://www.bandsintown.com/a/11079106-jelani-sei?came_from=257&utm_medium=web&utm_source=home&utm_campaign=event\n",
      "https://www.bandsintown.com/e/1011205437-sammus-at-mercury-lounge?came_from=257&utm_medium=web&utm_source=home&utm_campaign=event\n",
      "https://www.bandsintown.com/a/2347860-sammus?came_from=257&utm_medium=web&utm_source=home&utm_campaign=event\n",
      "https://www.bandsintown.com/e/1011205959-poetic-thrust-at-mercury-lounge?came_from=257&utm_medium=web&utm_source=home&utm_campaign=event\n",
      "https://www.bandsintown.com/a/14046159-poetic-thrust?came_from=257&utm_medium=web&utm_source=home&utm_campaign=event\n",
      "https://www.bandsintown.com/e/1011530409-strange-majik-at-belle-reve?came_from=257&utm_medium=web&utm_source=home&utm_campaign=event\n",
      "https://www.bandsintown.com/a/8044694-strange-majik?came_from=257&utm_medium=web&utm_source=home&utm_campaign=event\n",
      "https://www.bandsintown.com/e/1011101737-tony-touch-at-cielo?came_from=257&utm_medium=web&utm_source=home&utm_campaign=event\n",
      "https://www.bandsintown.com/a/4739-tony-touch?came_from=257&utm_medium=web&utm_source=home&utm_campaign=event\n",
      "https://www.bandsintown.com/e/1009879459-sting-at-the-rooftop-at-pier-17?came_from=257&utm_medium=web&utm_source=home&utm_campaign=event\n",
      "https://www.bandsintown.com/a/1826-sting?came_from=257&utm_medium=web&utm_source=home&utm_campaign=event\n",
      "https://www.bandsintown.com/e/1011746015-steven-cannon-at-irving-plaza?came_from=257&utm_medium=web&utm_source=home&utm_campaign=event\n",
      "https://www.bandsintown.com/a/13579930-steven-cannon?came_from=257&utm_medium=web&utm_source=home&utm_campaign=event\n",
      "https://www.bandsintown.com/e/1011729086-phem-at-irving-plaza-presented-by-cricket-wireless?came_from=257&utm_medium=web&utm_source=home&utm_campaign=event\n",
      "https://www.bandsintown.com/a/15367857-phem?came_from=257&utm_medium=web&utm_source=home&utm_campaign=event\n",
      "https://www.bandsintown.com/e/1009671814-lil-xan-at-irving-plaza?came_from=257&utm_medium=web&utm_source=home&utm_campaign=event\n",
      "https://www.bandsintown.com/a/14627533-lil-xan?came_from=257&utm_medium=web&utm_source=home&utm_campaign=event\n",
      "https://www.bandsintown.com/e/1009878410-shaggy-at-the-rooftop-at-pier-17?came_from=257&utm_medium=web&utm_source=home&utm_campaign=event\n",
      "https://www.bandsintown.com/a/2339556-shaggy-?came_from=257&utm_medium=web&utm_source=home&utm_campaign=event\n",
      "https://www.bandsintown.com/e/1010775042-onyx-at-highline-ballroom?came_from=257&utm_medium=web&utm_source=home&utm_campaign=event\n",
      "https://www.bandsintown.com/a/20343-onyx?came_from=257&utm_medium=web&utm_source=home&utm_campaign=event\n",
      "https://www.bandsintown.com/e/1011201268-wolves-at-nublu?came_from=257&utm_medium=web&utm_source=home&utm_campaign=event\n",
      "https://www.bandsintown.com/a/26363-wolves?came_from=257&utm_medium=web&utm_source=home&utm_campaign=event\n",
      "https://www.bandsintown.com/e/1011672554-cakes-da-killa-at-mood-ring?came_from=257&utm_medium=web&utm_source=home&utm_campaign=event\n",
      "https://www.bandsintown.com/a/4076479-cakes-da-killa?came_from=257&utm_medium=web&utm_source=home&utm_campaign=event\n",
      "https://www.bandsintown.com/e/1011630867-strange-majik-at-ponyboy?came_from=257&utm_medium=web&utm_source=home&utm_campaign=event\n",
      "https://www.bandsintown.com/a/8044694-strange-majik?came_from=257&utm_medium=web&utm_source=home&utm_campaign=event\n",
      "https://www.bandsintown.com/e/1011791150-tony-touch-at-cielo?came_from=257&utm_medium=web&utm_source=home&utm_campaign=event\n",
      "https://www.bandsintown.com/a/4739-tony-touch?came_from=257&utm_medium=web&utm_source=home&utm_campaign=event\n"
     ]
    }
   ],
   "source": [
    "for link in links:\n",
    "    print(link.attrs['href'])"
   ]
  },
  {
   "cell_type": "code",
   "execution_count": 17,
   "metadata": {},
   "outputs": [],
   "source": [
    "b1 = requests.get(links[0].attrs['href'])\n",
    "sb1 = BeautifulSoup(b1.text, 'html.parser')\n",
    "#all webpage i think from above"
   ]
  },
  {
   "cell_type": "code",
   "execution_count": 19,
   "metadata": {},
   "outputs": [
    {
     "data": {
      "text/plain": [
       "'Illspokinn'"
      ]
     },
     "execution_count": 19,
     "metadata": {},
     "output_type": "execute_result"
    }
   ],
   "source": [
    "sb1.find('h1').text"
   ]
  },
  {
   "cell_type": "code",
   "execution_count": 20,
   "metadata": {},
   "outputs": [
    {
     "data": {
      "text/plain": [
       "'Sep 24th 2018 @ Pianos'"
      ]
     },
     "execution_count": 20,
     "metadata": {},
     "output_type": "execute_result"
    }
   ],
   "source": [
    "sb1.find('h2').text"
   ]
  },
  {
   "cell_type": "code",
   "execution_count": null,
   "metadata": {},
   "outputs": [],
   "source": []
  }
 ],
 "metadata": {
  "kernelspec": {
   "display_name": "Python 3",
   "language": "python",
   "name": "python3"
  },
  "language_info": {
   "codemirror_mode": {
    "name": "ipython",
    "version": 3
   },
   "file_extension": ".py",
   "mimetype": "text/x-python",
   "name": "python",
   "nbconvert_exporter": "python",
   "pygments_lexer": "ipython3",
   "version": "3.6.5"
  }
 },
 "nbformat": 4,
 "nbformat_minor": 2
}
